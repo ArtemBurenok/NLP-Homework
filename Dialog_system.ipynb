{
  "nbformat": 4,
  "nbformat_minor": 0,
  "metadata": {
    "colab": {
      "provenance": [],
      "authorship_tag": "ABX9TyNvC0cVwZe0ECBtfdbF6i+1",
      "include_colab_link": true
    },
    "kernelspec": {
      "name": "python3",
      "display_name": "Python 3"
    },
    "language_info": {
      "name": "python"
    },
    "widgets": {
      "application/vnd.jupyter.widget-state+json": {
        "45373623c6a2491d933097639d22f8dc": {
          "model_module": "@jupyter-widgets/controls",
          "model_name": "HBoxModel",
          "model_module_version": "1.5.0",
          "state": {
            "_dom_classes": [],
            "_model_module": "@jupyter-widgets/controls",
            "_model_module_version": "1.5.0",
            "_model_name": "HBoxModel",
            "_view_count": null,
            "_view_module": "@jupyter-widgets/controls",
            "_view_module_version": "1.5.0",
            "_view_name": "HBoxView",
            "box_style": "",
            "children": [
              "IPY_MODEL_ab461fad411d41d8bf9e39e6abc3e582",
              "IPY_MODEL_cbeabd79f86d46dcaff64721a0918d13",
              "IPY_MODEL_e534d17b7f844336bc6a288809a2a883"
            ],
            "layout": "IPY_MODEL_c60969b522974ba99ebf915e2ea1bd5b"
          }
        },
        "ab461fad411d41d8bf9e39e6abc3e582": {
          "model_module": "@jupyter-widgets/controls",
          "model_name": "HTMLModel",
          "model_module_version": "1.5.0",
          "state": {
            "_dom_classes": [],
            "_model_module": "@jupyter-widgets/controls",
            "_model_module_version": "1.5.0",
            "_model_name": "HTMLModel",
            "_view_count": null,
            "_view_module": "@jupyter-widgets/controls",
            "_view_module_version": "1.5.0",
            "_view_name": "HTMLView",
            "description": "",
            "description_tooltip": null,
            "layout": "IPY_MODEL_564709a1224e46e593b2bb049e8b1cf4",
            "placeholder": "​",
            "style": "IPY_MODEL_41b54257bf10407fb1b07f5f46284120",
            "value": "Map: 100%"
          }
        },
        "cbeabd79f86d46dcaff64721a0918d13": {
          "model_module": "@jupyter-widgets/controls",
          "model_name": "FloatProgressModel",
          "model_module_version": "1.5.0",
          "state": {
            "_dom_classes": [],
            "_model_module": "@jupyter-widgets/controls",
            "_model_module_version": "1.5.0",
            "_model_name": "FloatProgressModel",
            "_view_count": null,
            "_view_module": "@jupyter-widgets/controls",
            "_view_module_version": "1.5.0",
            "_view_name": "ProgressView",
            "bar_style": "success",
            "description": "",
            "description_tooltip": null,
            "layout": "IPY_MODEL_c9161248fe074889a3ff38334ef128a9",
            "max": 10,
            "min": 0,
            "orientation": "horizontal",
            "style": "IPY_MODEL_121a00b667014f9bb98734f257b2b941",
            "value": 10
          }
        },
        "e534d17b7f844336bc6a288809a2a883": {
          "model_module": "@jupyter-widgets/controls",
          "model_name": "HTMLModel",
          "model_module_version": "1.5.0",
          "state": {
            "_dom_classes": [],
            "_model_module": "@jupyter-widgets/controls",
            "_model_module_version": "1.5.0",
            "_model_name": "HTMLModel",
            "_view_count": null,
            "_view_module": "@jupyter-widgets/controls",
            "_view_module_version": "1.5.0",
            "_view_name": "HTMLView",
            "description": "",
            "description_tooltip": null,
            "layout": "IPY_MODEL_5dadd364e52d4837b36a5b4f9cb01943",
            "placeholder": "​",
            "style": "IPY_MODEL_4739986d9e8a496d954c4486442e8976",
            "value": " 10/10 [00:00&lt;00:00, 96.64 examples/s]"
          }
        },
        "c60969b522974ba99ebf915e2ea1bd5b": {
          "model_module": "@jupyter-widgets/base",
          "model_name": "LayoutModel",
          "model_module_version": "1.2.0",
          "state": {
            "_model_module": "@jupyter-widgets/base",
            "_model_module_version": "1.2.0",
            "_model_name": "LayoutModel",
            "_view_count": null,
            "_view_module": "@jupyter-widgets/base",
            "_view_module_version": "1.2.0",
            "_view_name": "LayoutView",
            "align_content": null,
            "align_items": null,
            "align_self": null,
            "border": null,
            "bottom": null,
            "display": null,
            "flex": null,
            "flex_flow": null,
            "grid_area": null,
            "grid_auto_columns": null,
            "grid_auto_flow": null,
            "grid_auto_rows": null,
            "grid_column": null,
            "grid_gap": null,
            "grid_row": null,
            "grid_template_areas": null,
            "grid_template_columns": null,
            "grid_template_rows": null,
            "height": null,
            "justify_content": null,
            "justify_items": null,
            "left": null,
            "margin": null,
            "max_height": null,
            "max_width": null,
            "min_height": null,
            "min_width": null,
            "object_fit": null,
            "object_position": null,
            "order": null,
            "overflow": null,
            "overflow_x": null,
            "overflow_y": null,
            "padding": null,
            "right": null,
            "top": null,
            "visibility": null,
            "width": null
          }
        },
        "564709a1224e46e593b2bb049e8b1cf4": {
          "model_module": "@jupyter-widgets/base",
          "model_name": "LayoutModel",
          "model_module_version": "1.2.0",
          "state": {
            "_model_module": "@jupyter-widgets/base",
            "_model_module_version": "1.2.0",
            "_model_name": "LayoutModel",
            "_view_count": null,
            "_view_module": "@jupyter-widgets/base",
            "_view_module_version": "1.2.0",
            "_view_name": "LayoutView",
            "align_content": null,
            "align_items": null,
            "align_self": null,
            "border": null,
            "bottom": null,
            "display": null,
            "flex": null,
            "flex_flow": null,
            "grid_area": null,
            "grid_auto_columns": null,
            "grid_auto_flow": null,
            "grid_auto_rows": null,
            "grid_column": null,
            "grid_gap": null,
            "grid_row": null,
            "grid_template_areas": null,
            "grid_template_columns": null,
            "grid_template_rows": null,
            "height": null,
            "justify_content": null,
            "justify_items": null,
            "left": null,
            "margin": null,
            "max_height": null,
            "max_width": null,
            "min_height": null,
            "min_width": null,
            "object_fit": null,
            "object_position": null,
            "order": null,
            "overflow": null,
            "overflow_x": null,
            "overflow_y": null,
            "padding": null,
            "right": null,
            "top": null,
            "visibility": null,
            "width": null
          }
        },
        "41b54257bf10407fb1b07f5f46284120": {
          "model_module": "@jupyter-widgets/controls",
          "model_name": "DescriptionStyleModel",
          "model_module_version": "1.5.0",
          "state": {
            "_model_module": "@jupyter-widgets/controls",
            "_model_module_version": "1.5.0",
            "_model_name": "DescriptionStyleModel",
            "_view_count": null,
            "_view_module": "@jupyter-widgets/base",
            "_view_module_version": "1.2.0",
            "_view_name": "StyleView",
            "description_width": ""
          }
        },
        "c9161248fe074889a3ff38334ef128a9": {
          "model_module": "@jupyter-widgets/base",
          "model_name": "LayoutModel",
          "model_module_version": "1.2.0",
          "state": {
            "_model_module": "@jupyter-widgets/base",
            "_model_module_version": "1.2.0",
            "_model_name": "LayoutModel",
            "_view_count": null,
            "_view_module": "@jupyter-widgets/base",
            "_view_module_version": "1.2.0",
            "_view_name": "LayoutView",
            "align_content": null,
            "align_items": null,
            "align_self": null,
            "border": null,
            "bottom": null,
            "display": null,
            "flex": null,
            "flex_flow": null,
            "grid_area": null,
            "grid_auto_columns": null,
            "grid_auto_flow": null,
            "grid_auto_rows": null,
            "grid_column": null,
            "grid_gap": null,
            "grid_row": null,
            "grid_template_areas": null,
            "grid_template_columns": null,
            "grid_template_rows": null,
            "height": null,
            "justify_content": null,
            "justify_items": null,
            "left": null,
            "margin": null,
            "max_height": null,
            "max_width": null,
            "min_height": null,
            "min_width": null,
            "object_fit": null,
            "object_position": null,
            "order": null,
            "overflow": null,
            "overflow_x": null,
            "overflow_y": null,
            "padding": null,
            "right": null,
            "top": null,
            "visibility": null,
            "width": null
          }
        },
        "121a00b667014f9bb98734f257b2b941": {
          "model_module": "@jupyter-widgets/controls",
          "model_name": "ProgressStyleModel",
          "model_module_version": "1.5.0",
          "state": {
            "_model_module": "@jupyter-widgets/controls",
            "_model_module_version": "1.5.0",
            "_model_name": "ProgressStyleModel",
            "_view_count": null,
            "_view_module": "@jupyter-widgets/base",
            "_view_module_version": "1.2.0",
            "_view_name": "StyleView",
            "bar_color": null,
            "description_width": ""
          }
        },
        "5dadd364e52d4837b36a5b4f9cb01943": {
          "model_module": "@jupyter-widgets/base",
          "model_name": "LayoutModel",
          "model_module_version": "1.2.0",
          "state": {
            "_model_module": "@jupyter-widgets/base",
            "_model_module_version": "1.2.0",
            "_model_name": "LayoutModel",
            "_view_count": null,
            "_view_module": "@jupyter-widgets/base",
            "_view_module_version": "1.2.0",
            "_view_name": "LayoutView",
            "align_content": null,
            "align_items": null,
            "align_self": null,
            "border": null,
            "bottom": null,
            "display": null,
            "flex": null,
            "flex_flow": null,
            "grid_area": null,
            "grid_auto_columns": null,
            "grid_auto_flow": null,
            "grid_auto_rows": null,
            "grid_column": null,
            "grid_gap": null,
            "grid_row": null,
            "grid_template_areas": null,
            "grid_template_columns": null,
            "grid_template_rows": null,
            "height": null,
            "justify_content": null,
            "justify_items": null,
            "left": null,
            "margin": null,
            "max_height": null,
            "max_width": null,
            "min_height": null,
            "min_width": null,
            "object_fit": null,
            "object_position": null,
            "order": null,
            "overflow": null,
            "overflow_x": null,
            "overflow_y": null,
            "padding": null,
            "right": null,
            "top": null,
            "visibility": null,
            "width": null
          }
        },
        "4739986d9e8a496d954c4486442e8976": {
          "model_module": "@jupyter-widgets/controls",
          "model_name": "DescriptionStyleModel",
          "model_module_version": "1.5.0",
          "state": {
            "_model_module": "@jupyter-widgets/controls",
            "_model_module_version": "1.5.0",
            "_model_name": "DescriptionStyleModel",
            "_view_count": null,
            "_view_module": "@jupyter-widgets/base",
            "_view_module_version": "1.2.0",
            "_view_name": "StyleView",
            "description_width": ""
          }
        }
      }
    }
  },
  "cells": [
    {
      "cell_type": "markdown",
      "metadata": {
        "id": "view-in-github",
        "colab_type": "text"
      },
      "source": [
        "<a href=\"https://colab.research.google.com/github/ArtemBurenok/NLP-Homework/blob/main/Dialog_system.ipynb\" target=\"_parent\"><img src=\"https://colab.research.google.com/assets/colab-badge.svg\" alt=\"Open In Colab\"/></a>"
      ]
    },
    {
      "cell_type": "code",
      "source": [
        "%%capture\n",
        "!pip install datasets gradio trl==0.11.3"
      ],
      "metadata": {
        "id": "hgbyvWIiqI7V"
      },
      "execution_count": 29,
      "outputs": []
    },
    {
      "cell_type": "code",
      "execution_count": null,
      "metadata": {
        "id": "-QQzZ0_fp2W8"
      },
      "outputs": [],
      "source": [
        "from transformers import AutoTokenizer, AutoModelForSeq2SeqLM, TrainingArguments, Trainer\n",
        "from datasets import Dataset\n",
        "import gradio as gr\n",
        "from trl import PPOTrainer, PPOConfig"
      ]
    },
    {
      "cell_type": "markdown",
      "source": [
        "## Модель"
      ],
      "metadata": {
        "id": "_fpAD75pp7xC"
      }
    },
    {
      "cell_type": "code",
      "source": [
        "model_name = \"google/flan-t5-base\"\n",
        "tokenizer = AutoTokenizer.from_pretrained(model_name)\n",
        "model = AutoModelForSeq2SeqLM.from_pretrained(model_name)"
      ],
      "metadata": {
        "id": "wRzXHKRNp7EA"
      },
      "execution_count": 23,
      "outputs": []
    },
    {
      "cell_type": "code",
      "source": [
        "dialogue_data = [\n",
        "    {\"prompt\": \"Hi, how are you?\", \"response\": \"I'm fine, thank you. And you?\"},\n",
        "    {\"prompt\": \"What are you doing today?\", \"response\": \"I'm planning to go to the gym.\"},\n",
        "    {\"prompt\": \"Do you like movies?\", \"response\": \"Yes, I love watching action films.\"},\n",
        "    {\"prompt\": \"What's your favorite food?\", \"response\": \"I really enjoy sushi.\"},\n",
        "    {\"prompt\": \"Are you free tomorrow?\", \"response\": \"Yes, I am. Do you want to meet up?\"},\n",
        "    {\"prompt\": \"How was your weekend?\", \"response\": \"It was great! I went hiking.\"},\n",
        "    {\"prompt\": \"Do you have any pets?\", \"response\": \"Yes, I have a cat named Luna.\"},\n",
        "    {\"prompt\": \"What music do you like?\", \"response\": \"I enjoy listening to classical music.\"},\n",
        "    {\"prompt\": \"Where are you from?\", \"response\": \"I'm from Canada.\"},\n",
        "    {\"prompt\": \"Can you help me with my homework?\", \"response\": \"Of course! What subject is it?\"},\n",
        "]\n",
        "\n",
        "dataset = Dataset.from_list(dialogue_data)"
      ],
      "metadata": {
        "id": "OM4jktRiqC8J"
      },
      "execution_count": 24,
      "outputs": []
    },
    {
      "cell_type": "markdown",
      "source": [
        "## Токенизация"
      ],
      "metadata": {
        "id": "iEyxOH02qRpu"
      }
    },
    {
      "cell_type": "code",
      "source": [
        "def preprocess(example):\n",
        "    input_ids = tokenizer(example[\"prompt\"], padding=\"max_length\", truncation=True, max_length=64)\n",
        "    labels = tokenizer(example[\"response\"], padding=\"max_length\", truncation=True, max_length=64)\n",
        "    input_ids[\"labels\"] = labels[\"input_ids\"]\n",
        "    return input_ids\n",
        "\n",
        "tokenized_dataset = dataset.map(preprocess)"
      ],
      "metadata": {
        "colab": {
          "base_uri": "https://localhost:8080/",
          "height": 49,
          "referenced_widgets": [
            "45373623c6a2491d933097639d22f8dc",
            "ab461fad411d41d8bf9e39e6abc3e582",
            "cbeabd79f86d46dcaff64721a0918d13",
            "e534d17b7f844336bc6a288809a2a883",
            "c60969b522974ba99ebf915e2ea1bd5b",
            "564709a1224e46e593b2bb049e8b1cf4",
            "41b54257bf10407fb1b07f5f46284120",
            "c9161248fe074889a3ff38334ef128a9",
            "121a00b667014f9bb98734f257b2b941",
            "5dadd364e52d4837b36a5b4f9cb01943",
            "4739986d9e8a496d954c4486442e8976"
          ]
        },
        "id": "d3UdIxa5qQo-",
        "outputId": "9e1ed3e4-7fa4-4147-fe4b-7225a4335db0"
      },
      "execution_count": 25,
      "outputs": [
        {
          "output_type": "display_data",
          "data": {
            "text/plain": [
              "Map:   0%|          | 0/10 [00:00<?, ? examples/s]"
            ],
            "application/vnd.jupyter.widget-view+json": {
              "version_major": 2,
              "version_minor": 0,
              "model_id": "45373623c6a2491d933097639d22f8dc"
            }
          },
          "metadata": {}
        }
      ]
    },
    {
      "cell_type": "markdown",
      "source": [
        "## Fine-tune"
      ],
      "metadata": {
        "id": "y9z3X8aKqaKK"
      }
    },
    {
      "cell_type": "code",
      "source": [
        "training_args = TrainingArguments(\n",
        "    output_dir=\"./dialogue_model\",\n",
        "    per_device_train_batch_size=2,\n",
        "    num_train_epochs=3,\n",
        "    save_strategy=\"no\",\n",
        ")"
      ],
      "metadata": {
        "id": "vNDbzAggqcMq"
      },
      "execution_count": 26,
      "outputs": []
    },
    {
      "cell_type": "code",
      "source": [
        "trainer = Trainer(\n",
        "    model=model,\n",
        "    args=training_args,\n",
        "    train_dataset=tokenized_dataset,\n",
        "    tokenizer=tokenizer,\n",
        ")"
      ],
      "metadata": {
        "colab": {
          "base_uri": "https://localhost:8080/"
        },
        "id": "TSQNSc82qc1k",
        "outputId": "a3067099-e842-450e-ef0a-95b002d09717"
      },
      "execution_count": 27,
      "outputs": [
        {
          "output_type": "stream",
          "name": "stderr",
          "text": [
            "<ipython-input-27-5de6c17c5d42>:1: FutureWarning: `tokenizer` is deprecated and will be removed in version 5.0.0 for `Trainer.__init__`. Use `processing_class` instead.\n",
            "  trainer = Trainer(\n"
          ]
        }
      ]
    },
    {
      "cell_type": "code",
      "source": [
        "trainer.train()\n",
        "model.save_pretrained(\"dialogue-ft\")\n",
        "tokenizer.save_pretrained(\"dialogue-ft\")"
      ],
      "metadata": {
        "colab": {
          "base_uri": "https://localhost:8080/",
          "height": 162
        },
        "id": "vbCVq9uPqng5",
        "outputId": "7cb9689b-2555-4393-f2ea-29982fca8b89"
      },
      "execution_count": 28,
      "outputs": [
        {
          "output_type": "display_data",
          "data": {
            "text/plain": [
              "<IPython.core.display.HTML object>"
            ],
            "text/html": [
              "\n",
              "    <div>\n",
              "      \n",
              "      <progress value='15' max='15' style='width:300px; height:20px; vertical-align: middle;'></progress>\n",
              "      [15/15 01:18, Epoch 3/3]\n",
              "    </div>\n",
              "    <table border=\"1\" class=\"dataframe\">\n",
              "  <thead>\n",
              " <tr style=\"text-align: left;\">\n",
              "      <th>Step</th>\n",
              "      <th>Training Loss</th>\n",
              "    </tr>\n",
              "  </thead>\n",
              "  <tbody>\n",
              "  </tbody>\n",
              "</table><p>"
            ]
          },
          "metadata": {}
        },
        {
          "output_type": "execute_result",
          "data": {
            "text/plain": [
              "('dialogue-ft/tokenizer_config.json',\n",
              " 'dialogue-ft/special_tokens_map.json',\n",
              " 'dialogue-ft/spiece.model',\n",
              " 'dialogue-ft/added_tokens.json',\n",
              " 'dialogue-ft/tokenizer.json')"
            ]
          },
          "metadata": {},
          "execution_count": 28
        }
      ]
    },
    {
      "cell_type": "markdown",
      "source": [
        "## RLHF"
      ],
      "metadata": {
        "id": "kJ3mHZy_qvwc"
      }
    },
    {
      "cell_type": "code",
      "source": [
        "from transformers import AutoTokenizer\n",
        "from trl import PPOConfig, PPOTrainer\n",
        "from trl import AutoModelForSeq2SeqLMWithValueHead"
      ],
      "metadata": {
        "id": "IRJBI4tuNJF4"
      },
      "execution_count": null,
      "outputs": []
    },
    {
      "cell_type": "code",
      "source": [
        "tokenizer = AutoTokenizer.from_pretrained(\"dialogue-ft\")\n",
        "\n",
        "ppo_config = PPOConfig(\n",
        "    model_name=\"dialogue-ft\",\n",
        "    learning_rate=1.41e-5,\n",
        "    batch_size=1,\n",
        "    mini_batch_size=1,\n",
        "    gradient_accumulation_steps=1,\n",
        "    log_with=None\n",
        ")"
      ],
      "metadata": {
        "id": "IB39ng73NR40"
      },
      "execution_count": null,
      "outputs": []
    },
    {
      "cell_type": "code",
      "source": [
        "ppo_model = AutoModelForSeq2SeqLMWithValueHead.from_pretrained(\"dialogue-ft\")\n",
        "ppo_trainer = PPOTrainer(config=ppo_config, model=ppo_model, tokenizer=tokenizer)"
      ],
      "metadata": {
        "id": "c1gLzfndLRSw"
      },
      "execution_count": null,
      "outputs": []
    },
    {
      "cell_type": "code",
      "source": [
        "import torch\n",
        "\n",
        "user_inputs = [\n",
        "    \"Tell me something interesting.\",\n",
        "    \"Can you recommend a movie?\",\n",
        "]\n",
        "rewards = [0.0, 1.0]"
      ],
      "metadata": {
        "id": "yqF01bKqL8JW"
      },
      "execution_count": 30,
      "outputs": []
    },
    {
      "cell_type": "code",
      "source": [
        "for prompt, reward in zip(user_inputs, rewards):\n",
        "    query_tensor = tokenizer(prompt, return_tensors=\"pt\").input_ids\n",
        "    response_tensor = ppo_model.generate(query_tensor, max_new_tokens=50)\n",
        "    response_text = tokenizer.decode(response_tensor[0], skip_special_tokens=True)\n",
        "\n",
        "    print(f\"\\n[Prompt] {prompt}\")\n",
        "    print(f\"[Response] {response_text}\")\n",
        "    print(f\"[Reward] {reward}\")\n",
        "\n",
        "    ppo_trainer.step([query_tensor[0]], [response_tensor[0]], [torch.tensor(reward)])"
      ],
      "metadata": {
        "id": "Xo4kBJWzNY5-",
        "colab": {
          "base_uri": "https://localhost:8080/"
        },
        "outputId": "88248be6-2299-44b0-e237-49a0ed059a0f"
      },
      "execution_count": 31,
      "outputs": [
        {
          "output_type": "stream",
          "name": "stdout",
          "text": [
            "\n",
            "[Prompt] Tell me something interesting.\n",
            "[Response] The sandstone cliffs of the cliffs of the cliffs of the cliffs of the cliffs of the cliffs of the cliffs of the cliffs of the cliffs of the\n",
            "[Reward] 0.0\n"
          ]
        },
        {
          "output_type": "stream",
          "name": "stderr",
          "text": [
            "/usr/local/lib/python3.11/dist-packages/trl/trainer/ppo_trainer.py:1309: UserWarning: std(): degrees of freedom is <= 0. Correction should be strictly less than the reduction factor (input numel divided by output numel). (Triggered internally at ../aten/src/ATen/native/ReduceOps.cpp:1823.)\n",
            "  std_scores = data[\"scores\"].std()\n",
            "/usr/local/lib/python3.11/dist-packages/trl/trainer/ppo_trainer.py:1336: UserWarning: std(): degrees of freedom is <= 0. Correction should be strictly less than the reduction factor (input numel divided by output numel). (Triggered internally at ../aten/src/ATen/native/ReduceOps.cpp:1823.)\n",
            "  stats[\"tokens/queries_len_std\"] = torch.std(query_lens).cpu().numpy().item()\n",
            "/usr/local/lib/python3.11/dist-packages/trl/trainer/ppo_trainer.py:1339: UserWarning: std(): degrees of freedom is <= 0. Correction should be strictly less than the reduction factor (input numel divided by output numel). (Triggered internally at ../aten/src/ATen/native/ReduceOps.cpp:1823.)\n",
            "  stats[\"tokens/responses_len_std\"] = torch.std(response_lens).cpu().numpy().item()\n"
          ]
        },
        {
          "output_type": "stream",
          "name": "stdout",
          "text": [
            "\n",
            "[Prompt] Can you recommend a movie?\n",
            "[Response] I'm not sure.\n",
            "[Reward] 1.0\n"
          ]
        }
      ]
    },
    {
      "cell_type": "code",
      "source": [
        "ppo_model.save_pretrained(\"dialogue-ppo\")\n",
        "tokenizer.save_pretrained(\"dialogue-ppo\")"
      ],
      "metadata": {
        "id": "F_-4qbX3rsya",
        "colab": {
          "base_uri": "https://localhost:8080/"
        },
        "outputId": "7800d03a-de17-4c3c-ef76-1a4225b51f02"
      },
      "execution_count": 32,
      "outputs": [
        {
          "output_type": "execute_result",
          "data": {
            "text/plain": [
              "('dialogue-ppo/tokenizer_config.json',\n",
              " 'dialogue-ppo/special_tokens_map.json',\n",
              " 'dialogue-ppo/spiece.model',\n",
              " 'dialogue-ppo/added_tokens.json',\n",
              " 'dialogue-ppo/tokenizer.json')"
            ]
          },
          "metadata": {},
          "execution_count": 32
        }
      ]
    },
    {
      "cell_type": "code",
      "source": [],
      "metadata": {
        "id": "1v-5QRQRrs07"
      },
      "execution_count": null,
      "outputs": []
    }
  ]
}