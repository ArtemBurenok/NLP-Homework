{
  "cells": [
    {
      "cell_type": "markdown",
      "metadata": {
        "id": "view-in-github",
        "colab_type": "text"
      },
      "source": [
        "<a href=\"https://colab.research.google.com/github/ArtemBurenok/NLP-Homework/blob/main/homework_part_1.ipynb\" target=\"_parent\"><img src=\"https://colab.research.google.com/assets/colab-badge.svg\" alt=\"Open In Colab\"/></a>"
      ]
    },
    {
      "cell_type": "markdown",
      "metadata": {
        "id": "wJpXpmjEYC_T"
      },
      "source": [
        "## Building a GPT\n",
        "\n",
        "Companion notebook to the [Zero To Hero](https://karpathy.ai/zero-to-hero.html) video on GPT."
      ]
    },
    {
      "cell_type": "code",
      "execution_count": null,
      "metadata": {
        "id": "O6medjfRsLD9"
      },
      "outputs": [],
      "source": [
        "# read it in to inspect it\n",
        "with open('heart_of_dark.txt', 'r', encoding='utf-8', errors='ignore') as f:\n",
        "    text = f.read()"
      ]
    },
    {
      "cell_type": "code",
      "execution_count": null,
      "metadata": {
        "colab": {
          "base_uri": "https://localhost:8080/"
        },
        "id": "6xWI_VyAsN8F",
        "outputId": "65ecca9e-a38e-42eb-964d-326c46c5c4e6"
      },
      "outputs": [
        {
          "output_type": "stream",
          "name": "stdout",
          "text": [
            "length of dataset in characters:  215749\n"
          ]
        }
      ],
      "source": [
        "print(\"length of dataset in characters: \", len(text))"
      ]
    },
    {
      "cell_type": "code",
      "execution_count": null,
      "metadata": {
        "colab": {
          "base_uri": "https://localhost:8080/"
        },
        "id": "2c5V0FvqseE0",
        "outputId": "fd25e571-e465-4829-d72c-c97760b0f59f"
      },
      "outputs": [
        {
          "output_type": "stream",
          "name": "stdout",
          "text": [
            "Яхта \"Нелли\" покачнулась на якоре -  паруса  ее  были  неподвижны  -  и\n",
            "застыла. Был прилив, ветер почти стих, а так как ей предстояло спуститься по\n",
            "реке, то ничего другого не оставалось, как бросить якорь и ждать отлива.\n",
            "     Перед нами раскрывалось устье Темзы, словно вход в бесконечный  пролив.\n",
            "В этом месте море и небо сливались, и на ослепительной глади поднимающиеся с\n",
            "приливом вверх по  реке  баржи  казались  неподвижными;  гроздья  обожженных\n",
            "солнцем   красноватых   парусов,   заостренных   вверху,   блестели   своими\n",
            "полированными шпринтовами. Туман навис над низкими берегами, которые  словно\n",
            "истаивали, сбегая к морю. Над Грейвсэндом легла тень, а дальше, вглубь, тени\n",
            "сгущались в унылый сумрак, застывший над самым большим и великим городом  на\n",
            "земле.\n",
            "     Капитаном и владельцем  яхты  был  директор  акционерной  компании.  Мы\n",
            "четверо дружелюбно на него поглядывали, когда он, повернувшись к нам спиной,\n",
            "стоял на носу и смотрел в сторону моря. На всей реке никто так не походил на\n",
            "типичного моряка, как он. Он был  похож  на  лоцмана,  который  для  моряков\n",
            "олицетворяет собою все, что достойно доверия. Трудно было поверить, что  его\n",
            "профессия влекла его не вперед, к этому ослепительному  устью,  но  назад  -\n",
            "туда, где сгустился мрак.\n",
            "     Как я уже когда-то говорил, все мы были связаны узами,  какие  налагает\n",
            "море. Поддерживая нашу дружбу в течение долгих  периодов  разлуки,  эти  узы\n",
            "помогали нам относиться терпимо к рассказам и  даже  убеждениям  каждого  из\n",
            "нас. Адвокат - превосходный старик  -  пользовался,  вследствие  преклонного\n",
            "своего  возраста  и  многочисленных  добродетелей,  единственной   подушкой,\n",
            "имевшейся на палубе, и лежал на  единственном  нашем  пледе.  Бухгалтер  уже\n",
            "извлек коробку с домино и забавлялся, возводя строения из  костяных  плиток.\n",
            "Марлоу сидел скрестив ноги и прислонившись спиной  к  бизань-мачте.  У  него\n",
            "были впалые щеки, желтый цвет лица, прямой торс и аскетический вид;  сидя  с\n",
            "опущенными руками и  вывернутыми  наружу  ладонями,  он  походил  на  идола.\n",
            "Директор,  убедившись,  что  якорь  хорошо  держит,  вернулся  на  корму   и\n",
            "присоединился  к  нам.  Лениво  обменялись  мы  несколькими  словами.  Затем\n",
            "молчание спустилось на борт яхты. Почему-то мы не стали играть в домино.  Мы\n",
            "были задумчивы и  пребывали  в  благодушно-созерцательном  настроении.  День\n",
            "безмятежно догорал в ослепительном блеске. Мирно  сверкала  вода;  небо,  не\n",
            "запятнанное ни одним облачком, было залито благостным и чистым светом;  даже\n",
            "туман над болотами Эссекса был похож на сияющую  и  тонкую  ткань,  которая,\n",
            "спускаясь с лесистых холмов,  прозрачными  складками  драпировала  низменные\n",
            "берега. Но на западе, вверх по течению реки, мрак сгущался с каждой минутой,\n",
            "как бы раздраженный приближением солнца.\n",
            "     И наконец, незаметно свершая свой путь, солнце коснулось горизонта и из\n",
            "пылающего, белого превратилось в  тусклый  красный  шар,  лишенный  лучей  и\n",
            "тепла, как будто этот шар должен был вот-вот угаснуть,  пораженный  насмерть\n",
            "прикосновением мрака, нависшего над толпами людей.\n",
            "     Сразу изменился вид реки, блеск  начал  угасать,  а  тишина  стала  еще\n",
            "глубже. Старая широкая река, не тронутая  рябью,  покоилась  на  склоне  дня\n",
            "после  многих  веков  верной  службы  людям,  населявшим  ее   берега;   она\n",
            "раскинулась невозмутимая и величественная, словно  водный  путь,  ведущий  к\n",
            "самым отдаленным уголкам земли. Мы смотрели на могучий поток и видели его не\n",
            "в ярком сиянии короткого дня, который загорается  и  угасает  навеки,  но  в\n",
            "торжественном свете немеркнущих  воспоминаний.  И  действительно,  человеку,\n",
            "который с благоговением и любовью, как принято говорить, \"отдал себя  морю\",\n",
            "нетрудно воскресить в низовьях Темзы  великий  дух  прошлого.  Поток,  вечно\n",
            "несущий  свою  службу,  хранит  воспоминания  о  людях  и   судах,   которые\n",
            "поднимались вверх по течению, возвращаясь домой на отдых, или  спускались  к\n",
            "морю, навстречу битвам. Река служила всем людям, которыми гордится нация,  -\n",
            "знала  всех,  начиная  от  сэра  Фрэнсиса  Дрейка  и  кончая  сэром   Джоном\n",
            "Франклином; то были рыцари, титулованные и нетитулованные, - великие  рыцари\n",
            "- бродяги морей. По ней ходили  все  суда,  чьи  имена,  словно  драгоценные\n",
            "камни, сверкают в ночи веков,  -  все  суда,  начиная  с  \"Золотой  лани\"  с\n",
            "круглыми боками, которая набита была сокровищами  и  после  визита  королевы\n",
            "выпала из славной легенды, и кончая \"Эребом\"  и  \"Ужасом\",  стремившимися  к\n",
            "иным завоеваниям и так и не пришедшими назад. Река знала суда и  людей;  они\n",
            "выходили из Дэтфорда,  из  Гринвича,  из  Эрита  -  искатели  приключений  и\n",
            "колонисты,  военные  корабли  и  торговые  капитаны,   адмиралы,   неведомые\n",
            "контрабандисты восточных морей и эмиссары, \"генералы\" Восточного  индийского\n",
            "флота. Те, что искали золота, и те,  что  стремились  к  славе,  -  все  они\n",
            "спускались по этой реке, держа меч и часто - факел, посланцы  власти  внутри\n",
            "страны, носители искры священного огня.\n",
            "     Солнце зашло,  сумерки  спустились  на  реку,  и  вдоль  берега  начали\n",
            "загораться огни. На тинистой отмели ярко светил маяк  Чепмен,  поднимающийся\n",
            "словно на трех лапах. Огни судов скользили по  реке  -  великое  перемещение\n",
            "огней, которые приближались и удалялись. А  дальше,  на  западе,  чудовищный\n",
            "город все еще был отмечен  зловещей  тенью  на  небе  -  днем  отмечало  его\n",
            "сумрачное облако, а ночью - багровый отблеск под сверкающими звездами.\n",
            "     - И здесь тоже был один  из  мрачных  уголков  земли,  -  сказал  вдруг\n",
            "Марлоу.\n",
            "     Из нас он был единственным, кто все еще плавал по  морям.  Худшее,  что\n",
            "можно было о нем сказать, это то, что он не являлся типичным  представителем\n",
            "своей профессии. Он был моряком, но вместе  с  тем  и  бродягой,  тогда  как\n",
            "большинство моряков ведет, если можно так выразиться, оседлый  образ  жизни.\n",
            "По натуре своей они - домоседы, и их дом - судно - всегда с ними, а также  и\n",
            "родина их - море. Все суда похожи одно на другое, а море всегда  одно  и  то\n",
            "же. На фоне  окружающей  обстановки,  которая  никогда  не  меняется,  чужие\n",
            "берега, чужие лица, изменчивый лик жизни скользят мимо,  завуалированные  не\n",
            "ощущением тайны, но слегка презрительным неведением,  ибо  таинственным  для\n",
            "моряка является только море - его владыка, - море, неисповедимое,  как  сама\n",
            "судьба.  После  рабочего  дня  случайная  прогулка  или  пирушка  на  берегу\n",
            "открывает моряку тайну целого континента, и обычно  моряк  приходит  к  тому\n",
            "заключению, что эту тайну не стоило открывать. Рассказы  моряков  отличаются\n",
            "простотой, и смысл их как бы заключен в скорлупу ореха.  Но  Марлоу  не  был\n",
            "типичным  представителем  моряков  (если  исключить  его   любовь   сочинять\n",
            "истории), и для него смысл эпизода заключался не внутри, как ядрышко  ореха,\n",
            "но в тех условиях, какие вскрылись благодаря этому  эпизоду:  так  благодаря\n",
            "призрачному лунному свету становятся иногда видимы туманные кольца.\n",
            "     Замечание его никому не показалось странным. Это  было  так  похоже  на\n",
            "Марлоу. Его выслушали в молчании. Никто не  потрудился  хотя  бы  проворчать\n",
            "что-нибудь в ответ. Наконец он заговорил очень медленно:\n",
            "     - Я думал  о  тех  далеких  временах,  когда  впервые  появились  здесь\n",
            "римляне, тысяча девятьсот лет назад... вчера... Свет, скажете вы,  загорелся\n",
            "на этой реке во времена рыцарей? Да, но он был похож на  пламя,  разлившееся\n",
            "до равнине, на молнию в тучах. Мы живем при вспышке молнии - да не  погаснет\n",
            "она, пока движется по орбите наша старая Земля! Но  вчера  здесь  был  мрак.\n",
            "Представьте себе настроение командира красивой... как они  называются?..  ах\n",
            "да!.. триремы в Средиземном море, который внезапно получил приказ  плыть  на\n",
            "север.  Он  едет  сушей,  спешно  пересекает  земли   галлов   и   принимает\n",
            "командование одним из тех судов,  которые,  если  верить  книгам,  строились\n",
            "сотней легионеров в течение одного-двух месяцев...  Какими  ловкими  парнями\n",
            "были, должно быть, эти люди!.. Представьте себе, что  этот  командир  явился\n",
            "сюда, на край света... Море свинцовое, небо цвета дыма, судно неуклюжее, как\n",
            "концертино, а он поднимается вверх  по  реке,  везет  приказы,  или  товары,\n",
            "или... что хотите. Песчаные отмели, болота, леса, дикари... очень мало  еды,\n",
            "пригодной для цивилизованного человека, и нет ничего, кроме воды  из  Темзы,\n",
            "чтобы утолить жажду. Здесь, нет фалернского вина,  нельзя  сойти  на  берег.\n",
            "Кое-где виднеется военный лагерь, затерявшийся в глуши как  иголка  в  стоге\n",
            "сена. Холод, туман, бури, болезни, изгнание и смерть - смерть,  притаившаяся\n",
            "в воздухе, в воде, в кустах. Должно быть, здесь люди  умирали  как  мухи.  И\n",
            "все-таки он это вынес. Вынес молодцом, не тратя времени  на  размышления,  и\n",
            "только впоследствии хвастался, быть может, вспоминая все, что  пришлось  ему\n",
            "перенести. Да, то были люди достаточно мужественные, чтобы заглянуть в  лицо\n",
            "мраку. Пожалуй, его поддерживала надежда  выдвинуться,  попасть  во  флот  в\n",
            "Равенне, если найдутся в Риме добрые  друзья  и  если  пощадит  его  ужасный\n",
            "климат. И представьте себе молодого римлянина из хорошей семьи,  облеченного\n",
            "в тогу. Он, знаете ли, слишком увлекался игрой в кости  и,  чтобы  поправить\n",
            "свои дела, прибыл сюда в свите префекта,  сборщика  податей  или  купца.  Он\n",
            "высадился среди болот, шел через леса и на какой-нибудь  стоянке  в  глубине\n",
            "страны  почувствовал,  как  глушь  смыкается  вокруг  него,  ощутил   биение\n",
            "таинственной жизни в лесу, в джунглях, в сердцах дикарей.  В  эти  тайны  не\n",
            "могло быть посвящения. Он обречен жить в окружении,  недоступном  пониманию,\n",
            "что само по себе отвратительно. И есть в этом какое-то  очарование,  которое\n",
            "дает о себе знать. Чарующая сила  в  отвратительном.  Представьте  себе  его\n",
            "нарастающее сожаление,  желание  бежать,  беспомощное  омерзение,  отказ  от\n",
            "борьбы, ненависть...\n",
            "     Марлоу умолк.\n",
            "     - Заметьте... - заговорил он снова, поднимая  руку,  обращенную  к  нам\n",
            "ладонью, и походя в этой позе,  со  скрещенными  ногами,  на  проповедующего\n",
            "Будду, одетого в европейский костюм и лишенного цветка лотоса.  -  Заметьте:\n",
            "никому  из   нас   эти   чувства   не   доступны.   \n"
          ]
        }
      ],
      "source": [
        "# let's look at the first 1000 characters\n",
        "print(text[:10000])"
      ]
    },
    {
      "cell_type": "code",
      "execution_count": null,
      "metadata": {
        "colab": {
          "base_uri": "https://localhost:8080/"
        },
        "id": "0e-Rbyr8sfM8",
        "outputId": "ade7aa28-86b9-44b7-aa5b-06448d47cb25"
      },
      "outputs": [
        {
          "output_type": "stream",
          "name": "stdout",
          "text": [
            "\n",
            " !\"(),-.:;?ABDGIMabcdegilmnorstuvxy{}АБВГДЕЖЗИКЛМНОПРСТУФХЦЧШЭЮЯабвгдежзийклмнопрстуфхцчшщъыьэюя\n",
            "97\n"
          ]
        }
      ],
      "source": [
        "# here are all the unique characters that occur in this text\n",
        "chars = sorted(list(set(text)))\n",
        "vocab_size = len(chars)\n",
        "print(''.join(chars))\n",
        "print(vocab_size)"
      ]
    },
    {
      "cell_type": "code",
      "execution_count": null,
      "metadata": {
        "colab": {
          "base_uri": "https://localhost:8080/"
        },
        "id": "Yw1LKNCgwjj1",
        "outputId": "182c575b-36d6-4be1-990d-8b87ec4782b2"
      },
      "outputs": [
        {
          "output_type": "stream",
          "name": "stdout",
          "text": [
            "[52, 81, 73, 67, 70, 83]\n",
            "Привет\n"
          ]
        }
      ],
      "source": [
        "# create a mapping from characters to integers\n",
        "stoi = { ch:i for i, ch in enumerate(chars) }\n",
        "itos = { i:ch for i, ch in enumerate(chars) }\n",
        "encode = lambda s: [stoi[c] for c in s] # encoder: take a string, output a list of integers\n",
        "decode = lambda l: ''.join([itos[i] for i in l]) # decoder: take a list of integers, output a string\n",
        "\n",
        "print(encode(\"Привет\"))\n",
        "print(decode(encode(\"Привет\")))"
      ]
    },
    {
      "cell_type": "code",
      "execution_count": null,
      "metadata": {
        "colab": {
          "base_uri": "https://localhost:8080/"
        },
        "id": "YJb0OXPwzvqg",
        "outputId": "ebcfa2d6-695e-400e-af90-8883fa598c87"
      },
      "outputs": [
        {
          "output_type": "stream",
          "name": "stdout",
          "text": [
            "torch.Size([215749]) torch.int64\n",
            "tensor([64, 86, 83, 65,  1,  3, 50, 70, 76, 76, 73,  3,  1, 80, 79, 75, 65, 88,\n",
            "        78, 84, 76, 65, 82, 93,  1, 78, 65,  1, 96, 75, 79, 81, 70,  1,  7,  1,\n",
            "         1, 80, 65, 81, 84, 82, 65,  1,  1, 70, 70,  1,  1, 66, 92, 76, 73,  1,\n",
            "         1, 78, 70, 80, 79, 69, 67, 73, 71, 78, 92,  1,  1,  7,  1,  1, 73,  0,\n",
            "        72, 65, 82, 83, 92, 76, 65,  8,  1, 39, 92, 76,  1, 80, 81, 73, 76, 73,\n",
            "        67,  6,  1, 67, 70, 83, 70, 81,  1, 80, 79, 88, 83, 73,  1, 82, 83, 73,\n",
            "        86,  6,  1, 65,  1, 83, 65, 75,  1, 75, 65, 75,  1, 70, 74,  1, 80, 81,\n",
            "        70, 69, 82, 83, 79, 96, 76, 79,  1, 82, 80, 84, 82, 83, 73, 83, 93, 82,\n",
            "        96,  1, 80, 79,  0, 81, 70, 75, 70,  6,  1, 83, 79,  1, 78, 73, 88, 70,\n",
            "        68, 79,  1, 69, 81, 84, 68, 79, 68, 79,  1, 78, 70,  1, 79, 82, 83, 65,\n",
            "        67, 65, 76, 79, 82, 93,  6,  1, 75, 65, 75,  1, 66, 81, 79, 82, 73, 83,\n",
            "        93,  1, 96, 75, 79, 81, 93,  1, 73,  1, 71, 69, 65, 83, 93,  1, 79, 83,\n",
            "        76, 73, 67, 65,  8,  0,  1,  1,  1,  1,  1, 52, 70, 81, 70, 69,  1, 78,\n",
            "        65, 77, 73,  1, 81, 65, 82, 75, 81, 92, 67, 65, 76, 79, 82, 93,  1, 84,\n",
            "        82, 83, 93, 70,  1, 55, 70, 77, 72, 92,  6,  1, 82, 76, 79, 67, 78, 79,\n",
            "         1, 67, 86, 79, 69,  1, 67,  1, 66, 70, 82, 75, 79, 78, 70, 88, 78, 92,\n",
            "        74,  1,  1, 80, 81, 79, 76, 73, 67,  8,  0, 40,  1, 94, 83, 79, 77,  1,\n",
            "        77, 70, 82, 83, 70,  1, 77, 79, 81, 70,  1, 73,  1, 78, 70, 66, 79,  1,\n",
            "        82, 76, 73, 67, 65, 76, 73, 82, 93,  6,  1, 73,  1, 78, 65,  1, 79, 82,\n",
            "        76, 70, 80, 73, 83, 70, 76, 93, 78, 79, 74,  1, 68, 76, 65, 69, 73,  1,\n",
            "        80, 79, 69, 78, 73, 77, 65, 95, 90, 73, 70, 82, 96,  1, 82,  0, 80, 81,\n",
            "        73, 76, 73, 67, 79, 77,  1, 67, 67, 70, 81, 86,  1, 80, 79,  1,  1, 81,\n",
            "        70, 75, 70,  1,  1, 66, 65, 81, 71, 73,  1,  1, 75, 65, 72, 65, 76, 73,\n",
            "        82, 93,  1,  1, 78, 70, 80, 79, 69, 67, 73, 71, 78, 92, 77, 73, 10,  1,\n",
            "         1, 68, 81, 79, 72, 69, 93, 96,  1,  1, 79, 66, 79, 71, 71, 70, 78, 78,\n",
            "        92, 86,  0, 82, 79, 76, 78, 87, 70, 77,  1,  1,  1, 75, 81, 65, 82, 78,\n",
            "        79, 67, 65, 83, 92, 86,  1,  1,  1, 80, 65, 81, 84, 82, 79, 67,  6,  1,\n",
            "         1,  1, 72, 65, 79, 82, 83, 81, 70, 78, 78, 92, 86,  1,  1,  1, 67, 67,\n",
            "        70, 81, 86, 84,  6,  1,  1,  1, 66, 76, 70, 82, 83, 70, 76, 73,  1,  1,\n",
            "         1, 82, 67, 79, 73, 77, 73,  0, 80, 79, 76, 73, 81, 79, 67, 65, 78, 78,\n",
            "        92, 77, 73,  1, 89, 80, 81, 73, 78, 83, 79, 67, 65, 77, 73,  8,  1, 55,\n",
            "        84, 77, 65, 78,  1, 78, 65, 67, 73, 82,  1, 78, 65, 69,  1, 78, 73, 72,\n",
            "        75, 73, 77, 73,  1, 66, 70, 81, 70, 68, 65, 77, 73,  6,  1, 75, 79, 83,\n",
            "        79, 81, 92, 70,  1,  1, 82, 76, 79, 67, 78, 79,  0, 73, 82, 83, 65, 73,\n",
            "        67, 65, 76, 73,  6,  1, 82, 66, 70, 68, 65, 96,  1, 75,  1, 77, 79, 81,\n",
            "        95,  8,  1, 50, 65, 69,  1, 41, 81, 70, 74, 67, 82, 94, 78, 69, 79, 77,\n",
            "         1, 76, 70, 68, 76, 65,  1, 83, 70, 78, 93,  6,  1, 65,  1, 69, 65, 76,\n",
            "        93, 89, 70,  6,  1, 67, 68, 76, 84, 66, 93,  6,  1, 83, 70, 78, 73,  0,\n",
            "        82, 68, 84, 90, 65, 76, 73, 82, 93,  1, 67,  1, 84, 78, 92, 76, 92, 74,\n",
            "         1, 82, 84, 77, 81, 65, 75,  6,  1, 72, 65, 82, 83, 92, 67, 89, 73, 74,\n",
            "         1, 78, 65, 69,  1, 82, 65, 77, 92, 77,  1, 66, 79, 76, 93, 89, 73, 77,\n",
            "         1, 73,  1, 67, 70, 76, 73, 75, 73, 77,  1, 68, 79, 81, 79, 69, 79, 77,\n",
            "         1,  1, 78, 65,  0, 72, 70, 77, 76, 70,  8,  0,  1,  1,  1,  1,  1, 47,\n",
            "        65, 80, 73, 83, 65, 78, 79, 77,  1, 73,  1, 67, 76, 65, 69, 70, 76, 93,\n",
            "        87, 70, 77,  1,  1, 96, 86, 83, 92,  1,  1, 66, 92, 76,  1,  1, 69, 73,\n",
            "        81, 70, 75, 83, 79, 81,  1,  1, 65, 75, 87, 73, 79, 78, 70, 81, 78, 79,\n",
            "        74,  1,  1, 75, 79, 77, 80, 65, 78, 73, 73,  8,  1,  1, 49, 92,  0, 88,\n",
            "        70, 83, 67, 70, 81, 79,  1, 69, 81, 84, 71, 70, 76, 95, 66, 78, 79,  1,\n",
            "        78, 65,  1, 78, 70, 68, 79,  1, 80, 79, 68, 76, 96, 69, 92, 67, 65, 76,\n",
            "        73,  6,  1, 75, 79, 68, 69, 65,  1, 79, 78,  6,  1, 80, 79, 67, 70, 81,\n",
            "        78, 84, 67, 89, 73, 82, 93,  1, 75,  1, 78, 65, 77,  1, 82, 80, 73, 78,\n",
            "        79, 74,  6,  0, 82, 83, 79, 96, 76,  1, 78, 65,  1, 78, 79, 82, 84,  1,\n",
            "        73,  1, 82, 77, 79, 83, 81, 70, 76,  1, 67,  1, 82, 83, 79, 81, 79, 78,\n",
            "        84,  1, 77, 79, 81, 96,  8,  1, 50, 65,  1, 67, 82, 70, 74,  1, 81, 70,\n",
            "        75, 70,  1, 78, 73, 75, 83, 79,  1, 83, 65, 75,  1, 78, 70,  1, 80, 79,\n",
            "        86, 79, 69, 73, 76,  1, 78, 65,  0, 83])\n"
          ]
        }
      ],
      "source": [
        "# let's now encode the entire text dataset and store it into a torch.Tensor\n",
        "import torch # we use PyTorch: https://pytorch.org\n",
        "data = torch.tensor(encode(text), dtype=torch.long)\n",
        "print(data.shape, data.dtype)\n",
        "print(data[:1000]) # the 1000 characters we looked at earier will to the GPT look like this"
      ]
    },
    {
      "cell_type": "code",
      "execution_count": null,
      "metadata": {
        "id": "f_WIXqxz0lU5"
      },
      "outputs": [],
      "source": [
        "# Let's now split up the data into train and validation sets\n",
        "n = int(0.9*len(data)) # first 90% will be train, rest val\n",
        "train_data = data[:n]\n",
        "val_data = data[n:]"
      ]
    },
    {
      "cell_type": "code",
      "execution_count": null,
      "metadata": {
        "colab": {
          "base_uri": "https://localhost:8080/"
        },
        "id": "TD5Bj8Y6IAD4",
        "outputId": "20601487-b652-4f62-94a8-4134f2da242c"
      },
      "outputs": [
        {
          "output_type": "execute_result",
          "data": {
            "text/plain": [
              "tensor([64, 86, 83, 65,  1,  3, 50, 70, 76])"
            ]
          },
          "metadata": {},
          "execution_count": 36
        }
      ],
      "source": [
        "block_size = 8\n",
        "train_data[:block_size+1]"
      ]
    },
    {
      "cell_type": "code",
      "execution_count": null,
      "metadata": {
        "colab": {
          "base_uri": "https://localhost:8080/"
        },
        "id": "9HXDe8vGJCEn",
        "outputId": "48afcfaf-a250-445e-d3a9-b9c2bb7bca62"
      },
      "outputs": [
        {
          "output_type": "stream",
          "name": "stdout",
          "text": [
            "when input is tensor([64]) the target: 86\n",
            "when input is tensor([64, 86]) the target: 83\n",
            "when input is tensor([64, 86, 83]) the target: 65\n",
            "when input is tensor([64, 86, 83, 65]) the target: 1\n",
            "when input is tensor([64, 86, 83, 65,  1]) the target: 3\n",
            "when input is tensor([64, 86, 83, 65,  1,  3]) the target: 50\n",
            "when input is tensor([64, 86, 83, 65,  1,  3, 50]) the target: 70\n",
            "when input is tensor([64, 86, 83, 65,  1,  3, 50, 70]) the target: 76\n"
          ]
        }
      ],
      "source": [
        "x = train_data[:block_size]\n",
        "y = train_data[1:block_size+1]\n",
        "for t in range(block_size):\n",
        "    context = x[:t+1]\n",
        "    target = y[t]\n",
        "    print(f\"when input is {context} the target: {target}\")"
      ]
    },
    {
      "cell_type": "code",
      "execution_count": null,
      "metadata": {
        "colab": {
          "base_uri": "https://localhost:8080/"
        },
        "id": "Q3k1Czf7LuA9",
        "outputId": "2a87d9e7-14a8-4f9d-d770-87b0532a45a5"
      },
      "outputs": [
        {
          "output_type": "stream",
          "name": "stdout",
          "text": [
            "inputs:\n",
            "torch.Size([4, 8])\n",
            "tensor([[ 1, 68, 79, 67, 79, 81, 73, 76],\n",
            "        [68, 76, 73, 78, 79, 74,  6,  1],\n",
            "        [81, 79, 73, 76, 73, 82, 93,  1],\n",
            "        [ 8,  1, 52, 81, 70, 69, 82, 83]])\n",
            "targets:\n",
            "torch.Size([4, 8])\n",
            "tensor([[68, 79, 67, 79, 81, 73, 76,  6],\n",
            "        [76, 73, 78, 79, 74,  6,  1, 66],\n",
            "        [79, 73, 76, 73, 82, 93,  1,  1],\n",
            "        [ 1, 52, 81, 70, 69, 82, 83, 65]])\n",
            "----\n",
            "when input is [1] the target: 68\n",
            "when input is [1, 68] the target: 79\n",
            "when input is [1, 68, 79] the target: 67\n",
            "when input is [1, 68, 79, 67] the target: 79\n",
            "when input is [1, 68, 79, 67, 79] the target: 81\n",
            "when input is [1, 68, 79, 67, 79, 81] the target: 73\n",
            "when input is [1, 68, 79, 67, 79, 81, 73] the target: 76\n",
            "when input is [1, 68, 79, 67, 79, 81, 73, 76] the target: 6\n",
            "when input is [68] the target: 76\n",
            "when input is [68, 76] the target: 73\n",
            "when input is [68, 76, 73] the target: 78\n",
            "when input is [68, 76, 73, 78] the target: 79\n",
            "when input is [68, 76, 73, 78, 79] the target: 74\n",
            "when input is [68, 76, 73, 78, 79, 74] the target: 6\n",
            "when input is [68, 76, 73, 78, 79, 74, 6] the target: 1\n",
            "when input is [68, 76, 73, 78, 79, 74, 6, 1] the target: 66\n",
            "when input is [81] the target: 79\n",
            "when input is [81, 79] the target: 73\n",
            "when input is [81, 79, 73] the target: 76\n",
            "when input is [81, 79, 73, 76] the target: 73\n",
            "when input is [81, 79, 73, 76, 73] the target: 82\n",
            "when input is [81, 79, 73, 76, 73, 82] the target: 93\n",
            "when input is [81, 79, 73, 76, 73, 82, 93] the target: 1\n",
            "when input is [81, 79, 73, 76, 73, 82, 93, 1] the target: 1\n",
            "when input is [8] the target: 1\n",
            "when input is [8, 1] the target: 52\n",
            "when input is [8, 1, 52] the target: 81\n",
            "when input is [8, 1, 52, 81] the target: 70\n",
            "when input is [8, 1, 52, 81, 70] the target: 69\n",
            "when input is [8, 1, 52, 81, 70, 69] the target: 82\n",
            "when input is [8, 1, 52, 81, 70, 69, 82] the target: 83\n",
            "when input is [8, 1, 52, 81, 70, 69, 82, 83] the target: 65\n"
          ]
        }
      ],
      "source": [
        "torch.manual_seed(1337)\n",
        "batch_size = 4 # how many independent sequences will we process in parallel?\n",
        "block_size = 8 # what is the maximum context length for predictions?\n",
        "\n",
        "def get_batch(split):\n",
        "    # generate a small batch of data of inputs x and targets y\n",
        "    data = train_data if split == 'train' else val_data\n",
        "    ix = torch.randint(len(data) - block_size, (batch_size,))\n",
        "    x = torch.stack([data[i:i+block_size] for i in ix])\n",
        "    y = torch.stack([data[i+1:i+block_size+1] for i in ix])\n",
        "    return x, y\n",
        "\n",
        "xb, yb = get_batch('train')\n",
        "print('inputs:')\n",
        "print(xb.shape)\n",
        "print(xb)\n",
        "print('targets:')\n",
        "print(yb.shape)\n",
        "print(yb)\n",
        "\n",
        "print('----')\n",
        "\n",
        "for b in range(batch_size): # batch dimension\n",
        "    for t in range(block_size): # time dimension\n",
        "        context = xb[b, :t+1]\n",
        "        target = yb[b,t]\n",
        "        print(f\"when input is {context.tolist()} the target: {target}\")"
      ]
    },
    {
      "cell_type": "code",
      "execution_count": null,
      "metadata": {
        "colab": {
          "base_uri": "https://localhost:8080/"
        },
        "id": "qpyyAeIzQjlO",
        "outputId": "e72ae3c9-9ed5-47e8-925e-c68b28599af2"
      },
      "outputs": [
        {
          "output_type": "stream",
          "name": "stdout",
          "text": [
            "tensor([[ 1, 68, 79, 67, 79, 81, 73, 76],\n",
            "        [68, 76, 73, 78, 79, 74,  6,  1],\n",
            "        [81, 79, 73, 76, 73, 82, 93,  1],\n",
            "        [ 8,  1, 52, 81, 70, 69, 82, 83]])\n"
          ]
        }
      ],
      "source": [
        "print(xb) # our input to the transformer"
      ]
    },
    {
      "cell_type": "code",
      "execution_count": null,
      "metadata": {
        "colab": {
          "base_uri": "https://localhost:8080/"
        },
        "id": "nql_1ER53oCf",
        "outputId": "92f3c64b-4c96-4fd5-8fbb-67f47c2667a6"
      },
      "outputs": [
        {
          "output_type": "stream",
          "name": "stdout",
          "text": [
            "torch.Size([32, 97])\n",
            "tensor(5.1748, grad_fn=<NllLossBackward0>)\n",
            "\n",
            "РУеь;юПobВuуВчBsОlроКЛХИЮyБsОЮ,счessФЛяlmХа\"uMАХЯmvнMщПЮiюш;ГB)эГ)gлЯтРдI:щ)КАй\"юз{\n",
            "I\"шo\n",
            "Р;A:grКGЕСy\n"
          ]
        }
      ],
      "source": [
        "import torch\n",
        "import torch.nn as nn\n",
        "from torch.nn import functional as F\n",
        "torch.manual_seed(1337)\n",
        "\n",
        "class BigramLanguageModel(nn.Module):\n",
        "\n",
        "    def __init__(self, vocab_size):\n",
        "        super().__init__()\n",
        "        # each token directly reads off the logits for the next token from a lookup table\n",
        "        self.token_embedding_table = nn.Embedding(vocab_size, vocab_size)\n",
        "\n",
        "    def forward(self, idx, targets=None):\n",
        "\n",
        "        # idx and targets are both (B,T) tensor of integers\n",
        "        logits = self.token_embedding_table(idx) # (B,T,C)\n",
        "\n",
        "        if targets is None:\n",
        "            loss = None\n",
        "        else:\n",
        "            B, T, C = logits.shape\n",
        "            logits = logits.view(B*T, C)\n",
        "            targets = targets.view(B*T)\n",
        "            loss = F.cross_entropy(logits, targets)\n",
        "\n",
        "        return logits, loss\n",
        "\n",
        "    def generate(self, idx, max_new_tokens):\n",
        "        # idx is (B, T) array of indices in the current context\n",
        "        for _ in range(max_new_tokens):\n",
        "            # get the predictions\n",
        "            logits, loss = self(idx)\n",
        "            # focus only on the last time step\n",
        "            logits = logits[:, -1, :] # becomes (B, C)\n",
        "            # apply softmax to get probabilities\n",
        "            probs = F.softmax(logits, dim=-1) # (B, C)\n",
        "            # sample from the distribution\n",
        "            idx_next = torch.multinomial(probs, num_samples=1) # (B, 1)\n",
        "            # append sampled index to the running sequence\n",
        "            idx = torch.cat((idx, idx_next), dim=1) # (B, T+1)\n",
        "        return idx\n",
        "\n",
        "m = BigramLanguageModel(vocab_size)\n",
        "logits, loss = m(xb, yb)\n",
        "print(logits.shape)\n",
        "print(loss)\n",
        "\n",
        "print(decode(m.generate(idx = torch.zeros((1, 1), dtype=torch.long), max_new_tokens=100)[0].tolist()))\n"
      ]
    },
    {
      "cell_type": "code",
      "execution_count": null,
      "metadata": {
        "id": "eTyJ8qAaDdiF"
      },
      "outputs": [],
      "source": [
        "# create a PyTorch optimizer\n",
        "optimizer = torch.optim.AdamW(m.parameters(), lr=1e-3)"
      ]
    },
    {
      "cell_type": "code",
      "execution_count": null,
      "metadata": {
        "colab": {
          "base_uri": "https://localhost:8080/"
        },
        "id": "Hs4kI8YdEkQj",
        "outputId": "f59497fe-1cc2-4a9b-d741-db9235999dca"
      },
      "outputs": [
        {
          "output_type": "stream",
          "name": "stdout",
          "text": [
            "2.6326444149017334\n"
          ]
        }
      ],
      "source": [
        "batch_size = 32\n",
        "for steps in range(10000): # increase number of steps for good results...\n",
        "\n",
        "    # sample a batch of data\n",
        "    xb, yb = get_batch('train')\n",
        "\n",
        "    # evaluate the loss\n",
        "    logits, loss = m(xb, yb)\n",
        "    optimizer.zero_grad(set_to_none=True)\n",
        "    loss.backward()\n",
        "    optimizer.step()\n",
        "\n",
        "print(loss.item())\n"
      ]
    },
    {
      "cell_type": "code",
      "execution_count": null,
      "metadata": {
        "colab": {
          "base_uri": "https://localhost:8080/"
        },
        "id": "EcVIDWAZEtjN",
        "outputId": "13c589e2-f14d-4fcf-a0fc-4eb9d110c7ab"
      },
      "outputs": [
        {
          "output_type": "stream",
          "name": "stdout",
          "text": [
            "\n",
            "    С  каралилим, коти.\n",
            "х, о ие ннебы   чецожа\n",
            "ное фи о м, виеря    шую сы  та сьнях ис вискотнествемникат с\n",
            "оваляд, виблирына пастоскик далоча Увожковавив ая,  глазану, слил о-  ух Нотцоспыеск кролснгомицудерочти чедалисть\n",
            "фрогоговылутвая\"сем  угдребхутекан сичш тозачесламныл   Мер екал тцудерн я унерареевиляю. дбыхобы, чишь, мым! кищегах,xМывой о вамо ихоноронкл В кутых\n",
            "акалеля мен  мы  есдужи\n",
            "гршимае, Мы оз пре Этоны   Иuосре, копорасто чи новакл, сев   сть Они  чнебечив\n",
            "ЭABУрередих ктер, Я м\n"
          ]
        }
      ],
      "source": [
        "print(decode(m.generate(idx = torch.zeros((1, 1), dtype=torch.long), max_new_tokens=500)[0].tolist()))"
      ]
    },
    {
      "cell_type": "markdown",
      "metadata": {
        "id": "XinV8nmAnmKN"
      },
      "source": [
        "## The mathematical trick in self-attention"
      ]
    },
    {
      "cell_type": "code",
      "execution_count": null,
      "metadata": {
        "colab": {
          "base_uri": "https://localhost:8080/"
        },
        "id": "tukiH-NbRBhA",
        "outputId": "b89b260b-b3d6-411d-fd16-d74b56666745"
      },
      "outputs": [
        {
          "output_type": "stream",
          "name": "stdout",
          "text": [
            "a=\n",
            "tensor([[1.0000, 0.0000, 0.0000],\n",
            "        [0.5000, 0.5000, 0.0000],\n",
            "        [0.3333, 0.3333, 0.3333]])\n",
            "--\n",
            "b=\n",
            "tensor([[2., 7.],\n",
            "        [6., 4.],\n",
            "        [6., 5.]])\n",
            "--\n",
            "c=\n",
            "tensor([[2.0000, 7.0000],\n",
            "        [4.0000, 5.5000],\n",
            "        [4.6667, 5.3333]])\n"
          ]
        }
      ],
      "source": [
        "# toy example illustrating how matrix multiplication can be used for a \"weighted aggregation\"\n",
        "torch.manual_seed(42)\n",
        "a = torch.tril(torch.ones(3, 3))\n",
        "a = a / torch.sum(a, 1, keepdim=True)\n",
        "b = torch.randint(0,10,(3,2)).float()\n",
        "c = a @ b\n",
        "print('a=')\n",
        "print(a)\n",
        "print('--')\n",
        "print('b=')\n",
        "print(b)\n",
        "print('--')\n",
        "print('c=')\n",
        "print(c)"
      ]
    },
    {
      "cell_type": "code",
      "execution_count": null,
      "metadata": {
        "colab": {
          "base_uri": "https://localhost:8080/"
        },
        "id": "Hs_E24uRE8kr",
        "outputId": "71de53ea-4e38-418a-d3f2-d815d71bbcfd"
      },
      "outputs": [
        {
          "output_type": "execute_result",
          "data": {
            "text/plain": [
              "torch.Size([4, 8, 2])"
            ]
          },
          "metadata": {},
          "execution_count": 45
        }
      ],
      "source": [
        "# consider the following toy example:\n",
        "\n",
        "torch.manual_seed(1337)\n",
        "B,T,C = 4,8,2 # batch, time, channels\n",
        "x = torch.randn(B,T,C)\n",
        "x.shape"
      ]
    },
    {
      "cell_type": "code",
      "execution_count": null,
      "metadata": {
        "id": "86NuXX0fn7ps"
      },
      "outputs": [],
      "source": [
        "# We want x[b,t] = mean_{i<=t} x[b,i]\n",
        "xbow = torch.zeros((B,T,C))\n",
        "for b in range(B):\n",
        "    for t in range(T):\n",
        "        xprev = x[b,:t+1] # (t,C)\n",
        "        xbow[b,t] = torch.mean(xprev, 0)\n"
      ]
    },
    {
      "cell_type": "code",
      "execution_count": null,
      "metadata": {
        "colab": {
          "base_uri": "https://localhost:8080/"
        },
        "id": "yhdOAd6-wXkZ",
        "outputId": "3457ff57-167f-443b-de11-8961c3732770"
      },
      "outputs": [
        {
          "output_type": "execute_result",
          "data": {
            "text/plain": [
              "False"
            ]
          },
          "metadata": {},
          "execution_count": 47
        }
      ],
      "source": [
        "# version 2: using matrix multiply for a weighted aggregation\n",
        "wei = torch.tril(torch.ones(T, T))\n",
        "wei = wei / wei.sum(1, keepdim=True)\n",
        "xbow2 = wei @ x # (B, T, T) @ (B, T, C) ----> (B, T, C)\n",
        "torch.allclose(xbow, xbow2)"
      ]
    },
    {
      "cell_type": "code",
      "execution_count": null,
      "metadata": {
        "colab": {
          "base_uri": "https://localhost:8080/"
        },
        "id": "wOURrfG-ysoL",
        "outputId": "4d05d954-7a6d-46aa-ad14-5a0700d8f43b"
      },
      "outputs": [
        {
          "output_type": "execute_result",
          "data": {
            "text/plain": [
              "False"
            ]
          },
          "metadata": {},
          "execution_count": 48
        }
      ],
      "source": [
        "# version 3: use Softmax\n",
        "tril = torch.tril(torch.ones(T, T))\n",
        "wei = torch.zeros((T,T))\n",
        "wei = wei.masked_fill(tril == 0, float('-inf'))\n",
        "wei = F.softmax(wei, dim=-1)\n",
        "xbow3 = wei @ x\n",
        "torch.allclose(xbow, xbow3)\n"
      ]
    },
    {
      "cell_type": "code",
      "execution_count": null,
      "metadata": {
        "colab": {
          "base_uri": "https://localhost:8080/"
        },
        "id": "EDarxEWIRMKq",
        "outputId": "49db78cd-3fc8-46a7-8c2a-de30dd020614"
      },
      "outputs": [
        {
          "output_type": "execute_result",
          "data": {
            "text/plain": [
              "torch.Size([4, 8, 16])"
            ]
          },
          "metadata": {},
          "execution_count": 49
        }
      ],
      "source": [
        "# version 4: self-attention!\n",
        "torch.manual_seed(1337)\n",
        "B,T,C = 4,8,32 # batch, time, channels\n",
        "x = torch.randn(B,T,C)\n",
        "\n",
        "# let's see a single Head perform self-attention\n",
        "head_size = 16\n",
        "key = nn.Linear(C, head_size, bias=False)\n",
        "query = nn.Linear(C, head_size, bias=False)\n",
        "value = nn.Linear(C, head_size, bias=False)\n",
        "k = key(x)   # (B, T, 16)\n",
        "q = query(x) # (B, T, 16)\n",
        "wei =  q @ k.transpose(-2, -1) # (B, T, 16) @ (B, 16, T) ---> (B, T, T)\n",
        "\n",
        "tril = torch.tril(torch.ones(T, T))\n",
        "#wei = torch.zeros((T,T))\n",
        "wei = wei.masked_fill(tril == 0, float('-inf'))\n",
        "wei = F.softmax(wei, dim=-1)\n",
        "\n",
        "v = value(x)\n",
        "out = wei @ v\n",
        "#out = wei @ x\n",
        "\n",
        "out.shape"
      ]
    },
    {
      "cell_type": "code",
      "execution_count": null,
      "metadata": {
        "colab": {
          "base_uri": "https://localhost:8080/"
        },
        "id": "vT1hdtzXCjgL",
        "outputId": "4293a034-52c9-4a37-b983-41ace04c6571"
      },
      "outputs": [
        {
          "output_type": "execute_result",
          "data": {
            "text/plain": [
              "tensor([[1.0000, 0.0000, 0.0000, 0.0000, 0.0000, 0.0000, 0.0000, 0.0000],\n",
              "        [0.1574, 0.8426, 0.0000, 0.0000, 0.0000, 0.0000, 0.0000, 0.0000],\n",
              "        [0.2088, 0.1646, 0.6266, 0.0000, 0.0000, 0.0000, 0.0000, 0.0000],\n",
              "        [0.5792, 0.1187, 0.1889, 0.1131, 0.0000, 0.0000, 0.0000, 0.0000],\n",
              "        [0.0294, 0.1052, 0.0469, 0.0276, 0.7909, 0.0000, 0.0000, 0.0000],\n",
              "        [0.0176, 0.2689, 0.0215, 0.0089, 0.6812, 0.0019, 0.0000, 0.0000],\n",
              "        [0.1691, 0.4066, 0.0438, 0.0416, 0.1048, 0.2012, 0.0329, 0.0000],\n",
              "        [0.0210, 0.0843, 0.0555, 0.2297, 0.0573, 0.0709, 0.2423, 0.2391]],\n",
              "       grad_fn=<SelectBackward0>)"
            ]
          },
          "metadata": {},
          "execution_count": 50
        }
      ],
      "source": [
        "wei[0]"
      ]
    },
    {
      "cell_type": "markdown",
      "metadata": {
        "id": "M5CvobiQ0pLr"
      },
      "source": [
        "Notes:\n",
        "- Attention is a **communication mechanism**. Can be seen as nodes in a directed graph looking at each other and aggregating information with a weighted sum from all nodes that point to them, with data-dependent weights.\n",
        "- There is no notion of space. Attention simply acts over a set of vectors. This is why we need to positionally encode tokens.\n",
        "- Each example across batch dimension is of course processed completely independently and never \"talk\" to each other\n",
        "- In an \"encoder\" attention block just delete the single line that does masking with `tril`, allowing all tokens to communicate. This block here is called a \"decoder\" attention block because it has triangular masking, and is usually used in autoregressive settings, like language modeling.\n",
        "- \"self-attention\" just means that the keys and values are produced from the same source as queries. In \"cross-attention\", the queries still get produced from x, but the keys and values come from some other, external source (e.g. an encoder module)\n",
        "- \"Scaled\" attention additional divides `wei` by 1/sqrt(head_size). This makes it so when input Q,K are unit variance, wei will be unit variance too and Softmax will stay diffuse and not saturate too much. Illustration below"
      ]
    },
    {
      "cell_type": "code",
      "execution_count": null,
      "metadata": {
        "id": "4SNbLq5z3oBw"
      },
      "outputs": [],
      "source": [
        "k = torch.randn(B,T,head_size)\n",
        "q = torch.randn(B,T,head_size)\n",
        "wei = q @ k.transpose(-2, -1) * head_size**-0.5"
      ]
    },
    {
      "cell_type": "code",
      "execution_count": null,
      "metadata": {
        "colab": {
          "base_uri": "https://localhost:8080/"
        },
        "id": "Nl6I9n9IRTSo",
        "outputId": "388b0c76-9efb-4437-8ecc-f2633660ad50"
      },
      "outputs": [
        {
          "output_type": "execute_result",
          "data": {
            "text/plain": [
              "tensor(1.0449)"
            ]
          },
          "metadata": {},
          "execution_count": 52
        }
      ],
      "source": [
        "k.var()"
      ]
    },
    {
      "cell_type": "code",
      "execution_count": null,
      "metadata": {
        "colab": {
          "base_uri": "https://localhost:8080/"
        },
        "id": "T1tQx7oeRvtc",
        "outputId": "531afd67-e787-4019-bcb7-afa58a548eee"
      },
      "outputs": [
        {
          "output_type": "execute_result",
          "data": {
            "text/plain": [
              "tensor(1.0700)"
            ]
          },
          "metadata": {},
          "execution_count": 53
        }
      ],
      "source": [
        "q.var()"
      ]
    },
    {
      "cell_type": "code",
      "execution_count": null,
      "metadata": {
        "colab": {
          "base_uri": "https://localhost:8080/"
        },
        "id": "MLb_odHU3iKM",
        "outputId": "7853deb4-cde3-40a1-8e70-9be40a0d30d2"
      },
      "outputs": [
        {
          "output_type": "execute_result",
          "data": {
            "text/plain": [
              "tensor(1.0918)"
            ]
          },
          "metadata": {},
          "execution_count": 54
        }
      ],
      "source": [
        "wei.var()"
      ]
    },
    {
      "cell_type": "code",
      "execution_count": null,
      "metadata": {
        "colab": {
          "base_uri": "https://localhost:8080/"
        },
        "id": "JB82yzt44REI",
        "outputId": "11aedbc4-b43c-48db-8749-78aa481cc6e1"
      },
      "outputs": [
        {
          "output_type": "execute_result",
          "data": {
            "text/plain": [
              "tensor([0.1925, 0.1426, 0.2351, 0.1426, 0.2872])"
            ]
          },
          "metadata": {},
          "execution_count": 55
        }
      ],
      "source": [
        "torch.softmax(torch.tensor([0.1, -0.2, 0.3, -0.2, 0.5]), dim=-1)"
      ]
    },
    {
      "cell_type": "code",
      "execution_count": null,
      "metadata": {
        "colab": {
          "base_uri": "https://localhost:8080/"
        },
        "id": "Mpt8569BB9_f",
        "outputId": "2ba3d43e-82e8-4391-8986-02b0c3c8222a"
      },
      "outputs": [
        {
          "output_type": "execute_result",
          "data": {
            "text/plain": [
              "tensor([0.0326, 0.0030, 0.1615, 0.0030, 0.8000])"
            ]
          },
          "metadata": {},
          "execution_count": 56
        }
      ],
      "source": [
        "torch.softmax(torch.tensor([0.1, -0.2, 0.3, -0.2, 0.5])*8, dim=-1) # gets too peaky, converges to one-hot"
      ]
    },
    {
      "cell_type": "code",
      "execution_count": null,
      "metadata": {
        "colab": {
          "base_uri": "https://localhost:8080/"
        },
        "id": "2Num7sX9CKOH",
        "outputId": "adc4cdd7-e8b9-4416-deeb-801cdc591f0c"
      },
      "outputs": [
        {
          "output_type": "execute_result",
          "data": {
            "text/plain": [
              "torch.Size([32, 100])"
            ]
          },
          "metadata": {},
          "execution_count": 57
        }
      ],
      "source": [
        "class LayerNorm1d: # (used to be BatchNorm1d)\n",
        "\n",
        "  def __init__(self, dim, eps=1e-5, momentum=0.1):\n",
        "    self.eps = eps\n",
        "    self.gamma = torch.ones(dim)\n",
        "    self.beta = torch.zeros(dim)\n",
        "\n",
        "  def __call__(self, x):\n",
        "    # calculate the forward pass\n",
        "    xmean = x.mean(1, keepdim=True) # batch mean\n",
        "    xvar = x.var(1, keepdim=True) # batch variance\n",
        "    xhat = (x - xmean) / torch.sqrt(xvar + self.eps) # normalize to unit variance\n",
        "    self.out = self.gamma * xhat + self.beta\n",
        "    return self.out\n",
        "\n",
        "  def parameters(self):\n",
        "    return [self.gamma, self.beta]\n",
        "\n",
        "torch.manual_seed(1337)\n",
        "module = LayerNorm1d(100)\n",
        "x = torch.randn(32, 100) # batch size 32 of 100-dimensional vectors\n",
        "x = module(x)\n",
        "x.shape"
      ]
    },
    {
      "cell_type": "code",
      "execution_count": null,
      "metadata": {
        "colab": {
          "base_uri": "https://localhost:8080/"
        },
        "id": "633T2cmnW1uk",
        "outputId": "fba94a26-9f74-4648-ef7a-aa4bae1bf525"
      },
      "outputs": [
        {
          "output_type": "execute_result",
          "data": {
            "text/plain": [
              "(tensor(0.1469), tensor(0.8803))"
            ]
          },
          "metadata": {},
          "execution_count": 58
        }
      ],
      "source": [
        "x[:,0].mean(), x[:,0].std() # mean,std of one feature across all batch inputs"
      ]
    },
    {
      "cell_type": "code",
      "execution_count": null,
      "metadata": {
        "colab": {
          "base_uri": "https://localhost:8080/"
        },
        "id": "LN9cK9BoXCYb",
        "outputId": "a616d773-0ec6-4d83-8ec0-d3a6aeccc5aa"
      },
      "outputs": [
        {
          "output_type": "execute_result",
          "data": {
            "text/plain": [
              "(tensor(-9.5367e-09), tensor(1.0000))"
            ]
          },
          "metadata": {},
          "execution_count": 59
        }
      ],
      "source": [
        "x[0,:].mean(), x[0,:].std() # mean,std of a single input from the batch, of its features"
      ]
    },
    {
      "cell_type": "code",
      "execution_count": null,
      "metadata": {
        "id": "dRJH6wM_XFfU"
      },
      "outputs": [],
      "source": [
        "# French to English translation example:\n",
        "\n",
        "# <--------- ENCODE ------------------><--------------- DECODE ----------------->\n",
        "# les réseaux de neurones sont géniaux! <START> neural networks are awesome!<END>\n",
        "\n"
      ]
    },
    {
      "cell_type": "markdown",
      "metadata": {
        "id": "ZcvKeBXoZFOY"
      },
      "source": [
        "### Full finished code, for reference\n",
        "\n",
        "You may want to refer directly to the git repo instead though."
      ]
    },
    {
      "cell_type": "code",
      "execution_count": null,
      "metadata": {
        "colab": {
          "base_uri": "https://localhost:8080/"
        },
        "id": "hoelkOrFY8bN",
        "outputId": "6ba0d893-65ce-405f-bd70-21d14c859da8"
      },
      "outputs": [
        {
          "output_type": "stream",
          "name": "stdout",
          "text": [
            "0.213857 M parameters\n",
            "step 0: train loss 4.7342, val loss 4.7366\n",
            "step 100: train loss 2.7699, val loss 2.7692\n",
            "step 200: train loss 2.6517, val loss 2.6295\n",
            "step 300: train loss 2.6042, val loss 2.5808\n",
            "step 400: train loss 2.5471, val loss 2.5296\n",
            "step 500: train loss 2.5047, val loss 2.4829\n",
            "step 600: train loss 2.4436, val loss 2.4230\n",
            "step 700: train loss 2.3862, val loss 2.3607\n",
            "step 800: train loss 2.3463, val loss 2.3215\n",
            "step 900: train loss 2.3084, val loss 2.2878\n",
            "step 1000: train loss 2.2710, val loss 2.2464\n",
            "step 1100: train loss 2.2367, val loss 2.2057\n",
            "step 1200: train loss 2.1913, val loss 2.1658\n",
            "step 1300: train loss 2.1727, val loss 2.1433\n",
            "step 1400: train loss 2.1465, val loss 2.1336\n",
            "step 1500: train loss 2.1234, val loss 2.1037\n",
            "step 1600: train loss 2.1033, val loss 2.0876\n",
            "step 1700: train loss 2.0739, val loss 2.0612\n",
            "step 1800: train loss 2.0632, val loss 2.0500\n",
            "step 1900: train loss 2.0399, val loss 2.0337\n",
            "step 2000: train loss 2.0339, val loss 2.0118\n",
            "step 2100: train loss 2.0306, val loss 2.0033\n",
            "step 2200: train loss 1.9967, val loss 1.9969\n",
            "step 2300: train loss 1.9921, val loss 2.0073\n",
            "step 2400: train loss 1.9733, val loss 1.9882\n",
            "step 2500: train loss 1.9490, val loss 1.9689\n",
            "step 2600: train loss 1.9478, val loss 1.9560\n",
            "step 2700: train loss 1.9297, val loss 1.9442\n",
            "step 2800: train loss 1.9335, val loss 1.9541\n",
            "step 2900: train loss 1.9049, val loss 1.9364\n",
            "step 3000: train loss 1.8923, val loss 1.9279\n",
            "step 3100: train loss 1.9052, val loss 1.9245\n",
            "step 3200: train loss 1.8733, val loss 1.9134\n",
            "step 3300: train loss 1.8686, val loss 1.9087\n",
            "step 3400: train loss 1.8492, val loss 1.8982\n",
            "step 3500: train loss 1.8466, val loss 1.8922\n",
            "step 3600: train loss 1.8452, val loss 1.8988\n",
            "step 3700: train loss 1.8238, val loss 1.8811\n",
            "step 3800: train loss 1.8250, val loss 1.8930\n",
            "step 3900: train loss 1.8180, val loss 1.8815\n",
            "step 4000: train loss 1.8183, val loss 1.8757\n",
            "step 4100: train loss 1.8049, val loss 1.8678\n",
            "step 4200: train loss 1.8058, val loss 1.8732\n",
            "step 4300: train loss 1.7897, val loss 1.8564\n",
            "step 4400: train loss 1.7794, val loss 1.8595\n",
            "step 4500: train loss 1.7764, val loss 1.8465\n",
            "step 4600: train loss 1.7688, val loss 1.8497\n",
            "step 4700: train loss 1.7701, val loss 1.8563\n",
            "step 4800: train loss 1.7551, val loss 1.8404\n",
            "step 4900: train loss 1.7446, val loss 1.8361\n",
            "step 4999: train loss 1.7456, val loss 1.8272\n",
            "\n",
            "В возвосновью полемлить. Знатесчание вы воруживать лу заклепкайше на умерались, что  реке,  что,  с  загатя  за  катциной  говорил,\n",
            "что вы закая, он похочестворым - не\n",
            "он не своим человекам.\n",
            "    Я ни од было мношу\n",
            "я чпомина. добусть эточнов, сей в  костикой  большим  еспялнись,  перь  я  о  теплять  жином.  Мой  не  или  у  веребили  от\n",
            "ним спосидеть. Рота, и мы огочно рулицо был мстеять налеб? Фем конце костромным больше, когда когда грядь над неоздоктожно они снова, вы глазывать\n",
            "я выше своей  моей  станц  к  были  смерла  в\n",
            "этум; дошественно, моя что о  идть  было  у\n",
            "бередованику их\n",
            "гайку, и егромителься прокочествома, заколепоения вы  -  доможно.  Воздамов  убительно.  Когда\n",
            "спустилось, казалось столько было просредитьсев - момучт - то  достравно  он  подленуя  ужит  коврога\n",
            "реки. Заголяних река, да, как перебя ни  рмести,  который  человекну  те?\n",
            "Кроме-то меня не может, то оно плечам - спувзый квычинующих замея кошмерть, что когда толпо за  бурак  холоду\n",
            "жны была. он ос\n",
            "вобредился и не полушным в гурмыхандкей, что одно  минуть\n",
            "уду верную. Ис говород.\n",
            "    К  он было был не берег в получлом я  чером.  Не  было  то  умечте  было\n",
            "нетьм из коирого было городу мерном раком, и\n",
            "раз стололовам, сс конце вы жизни до питало  мири?  Непом  поддумал  в  чене  я  оим  не  было,  жалит.  нучи  беление  околько  дансю  та,  -  скаительным  было\n",
            "бродить из видо - скарпускую слышали:, возвуччества.. Таже жилостяженны и могожим людце вид глянующеся походять многого  лашалачням  колп  только  она  для  кончисой  в верхъекую!  Повтинкие  потому  чтобы  зактя\n",
            "ногрим он к были ни  концием  усленком  в  дваро\n",
            "заческ впароходщий, кыланной нак. Боже\", на тргующе выда, в  целонии  это  было  оточам.\n",
            "Когда-то можетку сомина  стали.  На  отчял  взвав  и  отзвает  в  споч;  полуйте.,  -  видовал:\n",
            "умесея сперевьях в путку людях прогорить но  тос:овавился,  стоявтрому  одинственно,  к   нем  было;  гуде  это!  И  к  гумасное  все   какомую\n",
            "свой вперега. Отольк\n",
            "он судные очдым прявлятелени? Сти\n"
          ]
        }
      ],
      "source": [
        "import torch\n",
        "import torch.nn as nn\n",
        "from torch.nn import functional as F\n",
        "\n",
        "# hyperparameters\n",
        "batch_size = 16 # how many independent sequences will we process in parallel?\n",
        "block_size = 32 # what is the maximum context length for predictions?\n",
        "max_iters = 5000\n",
        "eval_interval = 100\n",
        "learning_rate = 1e-3\n",
        "device = 'cuda' if torch.cuda.is_available() else 'cpu'\n",
        "eval_iters = 200\n",
        "n_embd = 64\n",
        "n_head = 4\n",
        "n_layer = 4\n",
        "dropout = 0.0\n",
        "# ------------\n",
        "\n",
        "torch.manual_seed(1337)\n",
        "\n",
        "# wget https://raw.githubusercontent.com/karpathy/char-rnn/master/data/tinyshakespeare/input.txt\n",
        "with open('heart_of_dark.txt', 'r', encoding='utf-8') as f:\n",
        "    text = f.read()\n",
        "\n",
        "# here are all the unique characters that occur in this text\n",
        "chars = sorted(list(set(text)))\n",
        "vocab_size = len(chars)\n",
        "# create a mapping from characters to integers\n",
        "stoi = { ch:i for i,ch in enumerate(chars) }\n",
        "itos = { i:ch for i,ch in enumerate(chars) }\n",
        "encode = lambda s: [stoi[c] for c in s] # encoder: take a string, output a list of integers\n",
        "decode = lambda l: ''.join([itos[i] for i in l]) # decoder: take a list of integers, output a string\n",
        "\n",
        "# Train and test splits\n",
        "data = torch.tensor(encode(text), dtype=torch.long)\n",
        "n = int(0.9*len(data)) # first 90% will be train, rest val\n",
        "train_data = data[:n]\n",
        "val_data = data[n:]\n",
        "\n",
        "# data loading\n",
        "def get_batch(split):\n",
        "    # generate a small batch of data of inputs x and targets y\n",
        "    data = train_data if split == 'train' else val_data\n",
        "    ix = torch.randint(len(data) - block_size, (batch_size,))\n",
        "    x = torch.stack([data[i:i+block_size] for i in ix])\n",
        "    y = torch.stack([data[i+1:i+block_size+1] for i in ix])\n",
        "    x, y = x.to(device), y.to(device)\n",
        "    return x, y\n",
        "\n",
        "@torch.no_grad()\n",
        "def estimate_loss():\n",
        "    out = {}\n",
        "    model.eval()\n",
        "    for split in ['train', 'val']:\n",
        "        losses = torch.zeros(eval_iters)\n",
        "        for k in range(eval_iters):\n",
        "            X, Y = get_batch(split)\n",
        "            logits, loss = model(X, Y)\n",
        "            losses[k] = loss.item()\n",
        "        out[split] = losses.mean()\n",
        "    model.train()\n",
        "    return out\n",
        "\n",
        "class Head(nn.Module):\n",
        "    \"\"\" one head of self-attention \"\"\"\n",
        "\n",
        "    def __init__(self, head_size):\n",
        "        super().__init__()\n",
        "        self.key = nn.Linear(n_embd, head_size, bias=False)\n",
        "        self.query = nn.Linear(n_embd, head_size, bias=False)\n",
        "        self.value = nn.Linear(n_embd, head_size, bias=False)\n",
        "        self.register_buffer('tril', torch.tril(torch.ones(block_size, block_size)))\n",
        "\n",
        "        self.dropout = nn.Dropout(dropout)\n",
        "\n",
        "    def forward(self, x):\n",
        "        B,T,C = x.shape\n",
        "        k = self.key(x)   # (B,T,C)\n",
        "        q = self.query(x) # (B,T,C)\n",
        "        # compute attention scores (\"affinities\")\n",
        "        wei = q @ k.transpose(-2,-1) * C**-0.5 # (B, T, C) @ (B, C, T) -> (B, T, T)\n",
        "        wei = wei.masked_fill(self.tril[:T, :T] == 0, float('-inf')) # (B, T, T)\n",
        "        wei = F.softmax(wei, dim=-1) # (B, T, T)\n",
        "        wei = self.dropout(wei)\n",
        "        # perform the weighted aggregation of the values\n",
        "        v = self.value(x) # (B,T,C)\n",
        "        out = wei @ v # (B, T, T) @ (B, T, C) -> (B, T, C)\n",
        "        return out\n",
        "\n",
        "class MultiHeadAttention(nn.Module):\n",
        "    \"\"\" multiple heads of self-attention in parallel \"\"\"\n",
        "\n",
        "    def __init__(self, num_heads, head_size):\n",
        "        super().__init__()\n",
        "        self.heads = nn.ModuleList([Head(head_size) for _ in range(num_heads)])\n",
        "        self.proj = nn.Linear(n_embd, n_embd)\n",
        "        self.dropout = nn.Dropout(dropout)\n",
        "\n",
        "    def forward(self, x):\n",
        "        out = torch.cat([h(x) for h in self.heads], dim=-1)\n",
        "        out = self.dropout(self.proj(out))\n",
        "        return out\n",
        "\n",
        "class FeedFoward(nn.Module):\n",
        "    \"\"\" a simple linear layer followed by a non-linearity \"\"\"\n",
        "\n",
        "    def __init__(self, n_embd):\n",
        "        super().__init__()\n",
        "        self.net = nn.Sequential(\n",
        "            nn.Linear(n_embd, 4 * n_embd),\n",
        "            nn.ReLU(),\n",
        "            nn.Linear(4 * n_embd, n_embd),\n",
        "            nn.Dropout(dropout),\n",
        "        )\n",
        "\n",
        "    def forward(self, x):\n",
        "        return self.net(x)\n",
        "\n",
        "class Block(nn.Module):\n",
        "    \"\"\" Transformer block: communication followed by computation \"\"\"\n",
        "\n",
        "    def __init__(self, n_embd, n_head):\n",
        "        # n_embd: embedding dimension, n_head: the number of heads we'd like\n",
        "        super().__init__()\n",
        "        head_size = n_embd // n_head\n",
        "        self.sa = MultiHeadAttention(n_head, head_size)\n",
        "        self.ffwd = FeedFoward(n_embd)\n",
        "        self.ln1 = nn.LayerNorm(n_embd)\n",
        "        self.ln2 = nn.LayerNorm(n_embd)\n",
        "\n",
        "    def forward(self, x):\n",
        "        x = x + self.sa(self.ln1(x))\n",
        "        x = x + self.ffwd(self.ln2(x))\n",
        "        return x\n",
        "\n",
        "# super simple bigram model\n",
        "class BigramLanguageModel(nn.Module):\n",
        "\n",
        "    def __init__(self):\n",
        "        super().__init__()\n",
        "        # each token directly reads off the logits for the next token from a lookup table\n",
        "        self.token_embedding_table = nn.Embedding(vocab_size, n_embd)\n",
        "        self.position_embedding_table = nn.Embedding(block_size, n_embd)\n",
        "        self.blocks = nn.Sequential(*[Block(n_embd, n_head=n_head) for _ in range(n_layer)])\n",
        "        self.ln_f = nn.LayerNorm(n_embd) # final layer norm\n",
        "        self.lm_head = nn.Linear(n_embd, vocab_size)\n",
        "\n",
        "    def forward(self, idx, targets=None):\n",
        "        B, T = idx.shape\n",
        "\n",
        "        # idx and targets are both (B,T) tensor of integers\n",
        "        tok_emb = self.token_embedding_table(idx) # (B,T,C)\n",
        "        pos_emb = self.position_embedding_table(torch.arange(T, device=device)) # (T,C)\n",
        "        x = tok_emb + pos_emb # (B,T,C)\n",
        "        x = self.blocks(x) # (B,T,C)\n",
        "        x = self.ln_f(x) # (B,T,C)\n",
        "        logits = self.lm_head(x) # (B,T,vocab_size)\n",
        "\n",
        "        if targets is None:\n",
        "            loss = None\n",
        "        else:\n",
        "            B, T, C = logits.shape\n",
        "            logits = logits.view(B*T, C)\n",
        "            targets = targets.view(B*T)\n",
        "            loss = F.cross_entropy(logits, targets)\n",
        "\n",
        "        return logits, loss\n",
        "\n",
        "    def generate(self, idx, max_new_tokens):\n",
        "        # idx is (B, T) array of indices in the current context\n",
        "        for _ in range(max_new_tokens):\n",
        "            # crop idx to the last block_size tokens\n",
        "            idx_cond = idx[:, -block_size:]\n",
        "            # get the predictions\n",
        "            logits, loss = self(idx_cond)\n",
        "            # focus only on the last time step\n",
        "            logits = logits[:, -1, :] # becomes (B, C)\n",
        "            # apply softmax to get probabilities\n",
        "            probs = F.softmax(logits, dim=-1) # (B, C)\n",
        "            # sample from the distribution\n",
        "            idx_next = torch.multinomial(probs, num_samples=1) # (B, 1)\n",
        "            # append sampled index to the running sequence\n",
        "            idx = torch.cat((idx, idx_next), dim=1) # (B, T+1)\n",
        "        return idx\n",
        "\n",
        "model = BigramLanguageModel()\n",
        "m = model.to(device)\n",
        "# print the number of parameters in the model\n",
        "print(sum(p.numel() for p in m.parameters())/1e6, 'M parameters')\n",
        "\n",
        "# create a PyTorch optimizer\n",
        "optimizer = torch.optim.AdamW(model.parameters(), lr=learning_rate)\n",
        "\n",
        "for iter in range(max_iters):\n",
        "\n",
        "    # every once in a while evaluate the loss on train and val sets\n",
        "    if iter % eval_interval == 0 or iter == max_iters - 1:\n",
        "        losses = estimate_loss()\n",
        "        print(f\"step {iter}: train loss {losses['train']:.4f}, val loss {losses['val']:.4f}\")\n",
        "\n",
        "    # sample a batch of data\n",
        "    xb, yb = get_batch('train')\n",
        "\n",
        "    # evaluate the loss\n",
        "    logits, loss = model(xb, yb)\n",
        "    optimizer.zero_grad(set_to_none=True)\n",
        "    loss.backward()\n",
        "    optimizer.step()\n",
        "\n",
        "# generate from the model\n",
        "context = torch.zeros((1, 1), dtype=torch.long, device=device)\n",
        "print(decode(m.generate(context, max_new_tokens=2000)[0].tolist()))"
      ]
    },
    {
      "cell_type": "code",
      "execution_count": null,
      "metadata": {
        "id": "fjjvMifYZf7x"
      },
      "outputs": [],
      "source": []
    }
  ],
  "metadata": {
    "colab": {
      "provenance": [],
      "include_colab_link": true
    },
    "kernelspec": {
      "display_name": "Python 3 (ipykernel)",
      "language": "python",
      "name": "python3"
    },
    "language_info": {
      "codemirror_mode": {
        "name": "ipython",
        "version": 3
      },
      "file_extension": ".py",
      "mimetype": "text/x-python",
      "name": "python",
      "nbconvert_exporter": "python",
      "pygments_lexer": "ipython3",
      "version": "3.11.5"
    }
  },
  "nbformat": 4,
  "nbformat_minor": 0
}